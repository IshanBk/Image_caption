{
 "cells": [
  {
   "cell_type": "code",
   "execution_count": 1,
   "id": "071439bd",
   "metadata": {},
   "outputs": [],
   "source": [
    "import Caption_it"
   ]
  },
  {
   "cell_type": "code",
   "execution_count": 2,
   "id": "f473b314",
   "metadata": {},
   "outputs": [
    {
     "data": {
      "text/plain": [
       "'two dogs are running in field'"
      ]
     },
     "execution_count": 2,
     "metadata": {},
     "output_type": "execute_result"
    }
   ],
   "source": [
    "Caption_it.caption_this_image(\"./images.jpg\")"
   ]
  },
  {
   "cell_type": "code",
   "execution_count": null,
   "id": "f5e7179a",
   "metadata": {},
   "outputs": [],
   "source": []
  }
 ],
 "metadata": {
  "kernelspec": {
   "display_name": "Python 3 (ipykernel)",
   "language": "python",
   "name": "python3"
  },
  "language_info": {
   "codemirror_mode": {
    "name": "ipython",
    "version": 3
   },
   "file_extension": ".py",
   "mimetype": "text/x-python",
   "name": "python",
   "nbconvert_exporter": "python",
   "pygments_lexer": "ipython3",
   "version": "3.9.7"
  }
 },
 "nbformat": 4,
 "nbformat_minor": 5
}
